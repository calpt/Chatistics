{
 "cells": [
  {
   "cell_type": "code",
   "execution_count": null,
   "metadata": {},
   "outputs": [],
   "source": [
    "import datetime\n",
    "from typing import Mapping\n",
    "import matplotlib.pyplot as plt\n",
    "import seaborn as sns\n",
    "import pandas as pd\n",
    "\n",
    "from utils import load_data\n",
    "from visualizers.breakdown import render_barplot"
   ]
  },
  {
   "cell_type": "code",
   "execution_count": null,
   "metadata": {},
   "outputs": [],
   "source": [
    "class Args(Mapping):\n",
    "    def __init__(\n",
    "        self,\n",
    "        platforms = [\"telegram_json\"],\n",
    "        start_date = None,\n",
    "        filter_conversation = [],\n",
    "        filter_sender = [],\n",
    "        remove_conversation = [],\n",
    "        remove_sender = [],\n",
    "        outgoing_only = False,\n",
    "        incoming_only = False,\n",
    "        lang = [],\n",
    "        contains_keyword = [],\n",
    "        as_density = False,\n",
    "        by_words = False,\n",
    "        top_n = 10,\n",
    "        bin_size = \"1M\",\n",
    "        include_others = False,\n",
    "    ):\n",
    "        self.platforms = platforms\n",
    "        self.start_date = start_date\n",
    "        self.filter_conversation = filter_conversation\n",
    "        self.filter_sender = filter_sender\n",
    "        self.remove_conversation = remove_conversation\n",
    "        self.remove_sender = remove_sender\n",
    "        self.outgoing_only = outgoing_only\n",
    "        self.incoming_only = incoming_only\n",
    "        self.lang = lang\n",
    "        self.contains_keyword = contains_keyword\n",
    "        self.as_density = as_density\n",
    "        self.by_words = by_words\n",
    "        self.top_n = top_n\n",
    "        self.bin_size = bin_size\n",
    "        self.include_others = include_others\n",
    "\n",
    "    def __getitem__(self, key):\n",
    "        return getattr(self, key)\n",
    "\n",
    "    def __iter__(self):\n",
    "        return iter(self.__dict__)\n",
    "\n",
    "    def __len__(self):\n",
    "        return len(self.__dict__)\n",
    "\n"
   ]
  },
  {
   "cell_type": "code",
   "execution_count": null,
   "metadata": {},
   "outputs": [],
   "source": [
    "def pltfy(ax, title=None, x_label=None, y_label=None):\n",
    "    sns.set(rc={'figure.figsize':(15, 7)})\n",
    "    ax.set_xticklabels(ax.get_xticklabels(), rotation=40, ha=\"right\")\n",
    "    if title:\n",
    "        ax.set_title(title)\n",
    "    if x_label:\n",
    "        ax.set_xlabel(x_label)\n",
    "    if y_label:\n",
    "        ax.set_ylabel(y_label)\n",
    "    return ax"
   ]
  },
  {
   "cell_type": "code",
   "execution_count": null,
   "metadata": {},
   "outputs": [],
   "source": [
    "args = Args(top_n=20, bin_size=\"1M\", by_words=True, include_others=True)\n",
    "df = load_data(args)\n",
    "fig = render_barplot(df, args)\n",
    "fig.suptitle(\"Total words by chat (all time)\")\n",
    "plt.show()"
   ]
  },
  {
   "cell_type": "code",
   "execution_count": null,
   "metadata": {},
   "outputs": [],
   "source": [
    "args = Args(top_n=10, bin_size=\"1W\", start_date=str(datetime.date.today() - datetime.timedelta(days=90)), by_words=True, include_others=True)\n",
    "df = load_data(args)\n",
    "fig = render_barplot(df, args)\n",
    "fig.suptitle(\"Total words by chat (90 days)\")\n",
    "plt.show()"
   ]
  },
  {
   "cell_type": "code",
   "execution_count": null,
   "metadata": {},
   "outputs": [],
   "source": [
    "def autopct_format(values):\n",
    "    def my_format(pct):\n",
    "        total = sum(values)\n",
    "        val = int(round(pct*total/100.0))\n",
    "        return '{:.1f}% ({v:d})'.format(pct, v=val)\n",
    "    return my_format\n",
    "\n",
    "counts = df[\"conversationWithName\"].value_counts()\n",
    "counts.plot(kind=\"pie\", autopct=autopct_format(counts), figsize=(8, 8), title=\"Total messages by chat (90 days)\", ylabel=\"\")"
   ]
  },
  {
   "cell_type": "code",
   "execution_count": null,
   "metadata": {},
   "outputs": [],
   "source": [
    "args = Args(top_n=25, include_others=True, by_words=False)\n",
    "df = load_data(args)\n",
    "df[\"word_count\"] = df[\"text\"].apply(lambda s: len(s.split()))\n",
    "df[\"timestamp\"] = pd.to_datetime(df.timestamp, unit=\"s\")\n",
    "df.head()"
   ]
  },
  {
   "cell_type": "code",
   "execution_count": null,
   "metadata": {},
   "outputs": [],
   "source": [
    "order = df[\"conversationWithName\"].unique()\n",
    "order.sort()"
   ]
  },
  {
   "cell_type": "code",
   "execution_count": null,
   "metadata": {},
   "outputs": [],
   "source": [
    "pltfy(\n",
    "    sns.countplot(x=\"conversationWithName\", data=df, order=df[\"conversationWithName\"].value_counts().index),\n",
    "    title=\"Total messages by chat\", x_label=\"Chat\", y_label=\"Messages\"\n",
    ")"
   ]
  },
  {
   "cell_type": "code",
   "execution_count": null,
   "metadata": {},
   "outputs": [],
   "source": [
    "pltfy(\n",
    "    sns.barplot(x=\"conversationWithName\", y=\"word_count\", data=df, order=order),\n",
    "    title=\"Average words per message by chat\",\n",
    "    x_label=\"Chat\", y_label=\"Words per message\"\n",
    ")"
   ]
  },
  {
   "cell_type": "code",
   "execution_count": null,
   "metadata": {},
   "outputs": [],
   "source": [
    "pltfy(\n",
    "    sns.barplot(x=\"conversationWithName\", y=\"word_count\", hue=\"outgoing\", data=df, order=order),\n",
    "    title=\"Average words per message by chat (split by incoming/ outgoing)\",\n",
    "    x_label=\"Chat\", y_label=\"Words per message\"\n",
    ")"
   ]
  },
  {
   "cell_type": "code",
   "execution_count": null,
   "metadata": {},
   "outputs": [],
   "source": [
    "df_balance = df.copy()\n",
    "df_balance = df_balance.groupby([\"conversationWithName\", \"outgoing\"]).count().reset_index().pivot(index=\"conversationWithName\", columns=\"outgoing\", values=\"text\")\n",
    "df_balance = (df_balance[True] - df_balance[False]) / (df_balance[True] + df_balance[False]) * 100\n",
    "pltfy(\n",
    "    sns.barplot(x=df_balance.index, y=df_balance.values),\n",
    "    title=\"Relative difference between outgoing (+) and incoming (-) messages by chat\",\n",
    "    x_label=\"Chat\", y_label=\"%\"\n",
    ")"
   ]
  },
  {
   "cell_type": "code",
   "execution_count": null,
   "metadata": {},
   "outputs": [],
   "source": [
    "df_balance = df.copy()\n",
    "df_balance = df_balance.groupby([\"conversationWithName\", \"outgoing\"]).sum().reset_index().pivot(index=\"conversationWithName\", columns=\"outgoing\", values=\"word_count\")\n",
    "df_balance = (df_balance[True] - df_balance[False]) / (df_balance[True] + df_balance[False]) * 100\n",
    "pltfy(\n",
    "    sns.barplot(x=df_balance.index, y=df_balance.values),\n",
    "    title=\"Relative difference between outgoing (+) and incoming (-) total words by chat\",\n",
    "    x_label=\"Chat\", y_label=\"%\"\n",
    ")"
   ]
  },
  {
   "cell_type": "code",
   "execution_count": null,
   "metadata": {},
   "outputs": [],
   "source": [
    "df_dof = df.groupby([\"conversationWithName\", df[\"timestamp\"].dt.hour]).count()[\"text\"].reset_index().pivot(index=\"conversationWithName\", columns=\"timestamp\", values=\"text\").fillna(0)\n",
    "df_dof = df_dof.div(df_dof.sum(axis=1), axis=0)\n",
    "pltfy(\n",
    "    sns.heatmap(df_dof, cmap=\"YlGnBu\"),\n",
    "    title=\"Distribution of messages per chat by hour of day\",\n",
    "    x_label=\"Hour of day\", y_label=\"Chat\"\n",
    ")"
   ]
  },
  {
   "cell_type": "code",
   "execution_count": null,
   "metadata": {},
   "outputs": [],
   "source": [
    "df_dof = df.groupby([\"conversationWithName\", df[\"timestamp\"].dt.weekday]).count()[\"text\"].reset_index().pivot(index=\"conversationWithName\", columns=\"timestamp\", values=\"text\").fillna(0)\n",
    "df_dof = df_dof.div(df_dof.sum(axis=1), axis=0)\n",
    "pltfy(\n",
    "    sns.heatmap(df_dof, cmap=\"YlGnBu\"),\n",
    "    title=\"Distribution of messages per chat by day of week\",\n",
    "    x_label=\"Day of week\", y_label=\"Chat\"\n",
    ")"
   ]
  }
 ],
 "metadata": {
  "kernelspec": {
   "display_name": "Python 3.6.15 ('chatistics')",
   "language": "python",
   "name": "python3"
  },
  "language_info": {
   "codemirror_mode": {
    "name": "ipython",
    "version": 3
   },
   "file_extension": ".py",
   "mimetype": "text/x-python",
   "name": "python",
   "nbconvert_exporter": "python",
   "pygments_lexer": "ipython3",
   "version": "3.8.13"
  },
  "orig_nbformat": 4,
  "vscode": {
   "interpreter": {
    "hash": "ba05987ba90030e3be9feed8874486a403d4473b8601e235c911990c0e530920"
   }
  }
 },
 "nbformat": 4,
 "nbformat_minor": 2
}
